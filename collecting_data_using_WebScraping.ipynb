{
 "cells": [
  {
   "cell_type": "code",
   "execution_count": 1,
   "id": "6331e681-1124-4a8f-9d79-b4866f716af6",
   "metadata": {},
   "outputs": [],
   "source": [
    "import requests\n",
    "from bs4 import BeautifulSoup"
   ]
  },
  {
   "cell_type": "code",
   "execution_count": 2,
   "id": "f49eccaa-585b-431a-a712-a21d312e6339",
   "metadata": {},
   "outputs": [
    {
     "name": "stdout",
     "output_type": "stream",
     "text": [
      "https://www.ibm.com/granite?lnk=dev\n",
      "https://developer.ibm.com/technologies/artificial-intelligence?lnk=dev\n",
      "https://www.ibm.com/products/watsonx-code-assistant?lnk=dev\n",
      "https://www.ibm.com/watsonx/developer/?lnk=dev\n",
      "https://www.ibm.com/thought-leadership/institute-business-value/report/ceo-generative-ai?lnk=bus\n",
      "https://www.ibm.com/think/reports/ai-in-action?lnk=bus\n",
      "https://www.ibm.com/impact/ai-ethics?lnk=bus\n",
      "https://www.ibm.com/account/reg/signup?formid=news-urx-52954&lnk=bus\n",
      "https://www.ibm.com/artificial-intelligence?lnk=ProdC\n",
      "https://www.ibm.com/hybrid-cloud?lnk=ProdC\n",
      "https://www.ibm.com/consulting?lnk=ProdC\n"
     ]
    }
   ],
   "source": [
    "url = 'http://ibm.com'\n",
    "\n",
    "data = requests.get(url).text\n",
    "soup = BeautifulSoup(data, 'html.parser')\n",
    "\n",
    "for link in soup.find_all('a'):\n",
    "    print(link.get('href'))"
   ]
  },
  {
   "cell_type": "code",
   "execution_count": 6,
   "id": "3e76af18-89d0-4545-bf4e-dafe245a2700",
   "metadata": {},
   "outputs": [
    {
     "name": "stdout",
     "output_type": "stream",
     "text": [
      "The Color Name is lightsalmon and its Hex Code is #FFA07A\n",
      "The Color Name is salmon and its Hex Code is #FA8072\n",
      "The Color Name is darksalmon and its Hex Code is #E9967A\n",
      "The Color Name is lightcoral and its Hex Code is #F08080\n",
      "The Color Name is coral and its Hex Code is #FF7F50\n",
      "The Color Name is tomato and its Hex Code is #FF6347\n",
      "The Color Name is orangered and its Hex Code is #FF4500\n",
      "The Color Name is gold and its Hex Code is #FFD700\n",
      "The Color Name is orange and its Hex Code is #FFA500\n",
      "The Color Name is darkorange and its Hex Code is #FF8C00\n",
      "The Color Name is lightyellow and its Hex Code is #FFFFE0\n",
      "The Color Name is lemonchiffon and its Hex Code is #FFFACD\n",
      "The Color Name is papayawhip and its Hex Code is #FFEFD5\n",
      "The Color Name is moccasin and its Hex Code is #FFE4B5\n",
      "The Color Name is peachpuff and its Hex Code is #FFDAB9\n",
      "The Color Name is palegoldenrod and its Hex Code is #EEE8AA\n",
      "The Color Name is khaki and its Hex Code is #F0E68C\n",
      "The Color Name is darkkhaki and its Hex Code is #BDB76B\n",
      "The Color Name is yellow and its Hex Code is #FFFF00\n",
      "The Color Name is lawngreen and its Hex Code is #7CFC00\n",
      "The Color Name is chartreuse and its Hex Code is #7FFF00\n",
      "The Color Name is limegreen and its Hex Code is #32CD32\n",
      "The Color Name is lime and its Hex Code is #00FF00\n",
      "The Color Name is forestgreen and its Hex Code is #228B22\n",
      "The Color Name is green and its Hex Code is #008000\n",
      "The Color Name is powderblue and its Hex Code is #B0E0E6\n",
      "The Color Name is lightblue and its Hex Code is #ADD8E6\n",
      "The Color Name is lightskyblue and its Hex Code is #87CEFA\n",
      "The Color Name is skyblue and its Hex Code is #87CEEB\n",
      "The Color Name is deepskyblue and its Hex Code is #00BFFF\n",
      "The Color Name is lightsteelblue and its Hex Code is #B0C4DE\n",
      "The Color Name is dodgerblue and its Hex Code is #1E90FF\n"
     ]
    }
   ],
   "source": [
    "URL = \"https://cf-courses-data.s3.us.cloud-object-storage.appdomain.cloud/IBM-DA0321EN-SkillsNetwork/labs/datasets/HTMLColorCodes.html\"\n",
    "\n",
    "info = requests.get(URL).text\n",
    "soup = BeautifulSoup(info, 'html.parser')\n",
    "\n",
    "# skipping the first row - header by checking the index\n",
    "for i, row in enumerate(soup.find_all('tr')):\n",
    "    if i==0:\n",
    "        continue # skip the first row\n",
    "        \n",
    "    cols = row.find_all('td')\n",
    "    color_name = cols[2].getText()\n",
    "    color_code = cols[3].getText()\n",
    "    print('The Color Name is {} and its Hex Code is {}'.format(color_name, color_code))"
   ]
  },
  {
   "cell_type": "code",
   "execution_count": 7,
   "id": "9f5042e5-19fa-455b-a96c-93c83bf443ee",
   "metadata": {},
   "outputs": [
    {
     "name": "stdout",
     "output_type": "stream",
     "text": [
      "Scraped Data saved into a CSV File\n"
     ]
    }
   ],
   "source": [
    "import requests\n",
    "from bs4 import BeautifulSoup\n",
    "import csv\n",
    "\n",
    "\n",
    "url = \"https://cf-courses-data.s3.us.cloud-object-storage.appdomain.cloud/IBM-DA0321EN-SkillsNetwork/labs/datasets/Programming_Languages.html\"\n",
    "\n",
    "# downloading the webpage at the url\n",
    "data = requests.get(url).text\n",
    "\n",
    "# creating a soup object\n",
    "soup = BeautifulSoup(data, 'html.parser')\n",
    "\n",
    "with open('popular-languages.csv', 'w', newline='', encoding='utf-8') as file:\n",
    "    writer = csv.writer(file) # writer object that allows to write rows into a csv file\n",
    "    writer.writerow(['Language Name','Annual Avarage Salary']) # writes in the header\n",
    "\n",
    "    # loop through the rows of table\n",
    "    # checking the first row(header) by the index\n",
    "    for i, row in enumerate(soup.find_all('tr')):\n",
    "        if i == 0:\n",
    "            continue # skip the first row\n",
    "\n",
    "        cols = row.find_all('td')\n",
    "        lang_name = cols[1].getText()\n",
    "        avg_salary = cols[3].getText()\n",
    "        writer.writerow([lang_name, avg_salary])\n",
    "\n",
    "    print('Scraped Data saved into a CSV File')\n",
    "    "
   ]
  },
  {
   "cell_type": "code",
   "execution_count": null,
   "id": "707d6fbf-4e03-4e55-bfec-efd68522a852",
   "metadata": {},
   "outputs": [],
   "source": []
  }
 ],
 "metadata": {
  "kernelspec": {
   "display_name": "Python 3 (ipykernel)",
   "language": "python",
   "name": "python3"
  },
  "language_info": {
   "codemirror_mode": {
    "name": "ipython",
    "version": 3
   },
   "file_extension": ".py",
   "mimetype": "text/x-python",
   "name": "python",
   "nbconvert_exporter": "python",
   "pygments_lexer": "ipython3",
   "version": "3.12.3"
  }
 },
 "nbformat": 4,
 "nbformat_minor": 5
}
