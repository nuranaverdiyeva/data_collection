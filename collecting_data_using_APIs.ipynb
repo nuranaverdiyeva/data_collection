{
 "cells": [
  {
   "cell_type": "markdown",
   "id": "ea325a7e-977a-430f-a557-ebdc2773b771",
   "metadata": {},
   "source": [
    "## a function to get the number of jobs for the Python technology."
   ]
  },
  {
   "cell_type": "code",
   "execution_count": 28,
   "id": "bda05775-6ab8-44a6-beaf-fb2f1b75db31",
   "metadata": {},
   "outputs": [],
   "source": [
    "import requests\n",
    "import pandas as pd"
   ]
  },
  {
   "cell_type": "code",
   "execution_count": 36,
   "id": "56a054e2-3744-4cb4-9993-dd2e3c491047",
   "metadata": {},
   "outputs": [
    {
     "data": {
      "text/plain": [
       "('PostgreSQL', 86)"
      ]
     },
     "execution_count": 36,
     "metadata": {},
     "output_type": "execute_result"
    }
   ],
   "source": [
    "api_url = 'https://cf-courses-data.s3.us.cloud-object-storage.appdomain.cloud/IBM-DA0321EN-SkillsNetwork/labs/module%201/Accessing%20Data%20Using%20APIs/jobs.json'\n",
    "\n",
    "# fetching data from the API\n",
    "response = requests.get(api_url)\n",
    "if response.ok:\n",
    "    data = response.json()\n",
    "else:\n",
    "    print('Failed to fetch the data!')\n",
    "    \n",
    "def get_number_of_jobs_T(technology):\n",
    "    \n",
    "    num_of_jobs=0\n",
    "    for job in data:\n",
    "        key_skills = job.get('Key Skills')\n",
    "\n",
    "        # if key_skills is a type of str, using split() method creates a list (seperator is '|') \n",
    "        if isinstance(key_skills, str):\n",
    "            key_skills = key_skills.split('|')\n",
    "            \n",
    "        # normalize key_skills\n",
    "        normalized_key_skills = set(skill.lower().strip() for skill in key_skills)\n",
    "        \n",
    "        # check for technology\n",
    "        if technology.lower() in normalized_key_skills:\n",
    "            num_of_jobs+=1\n",
    "\n",
    "    return technology, num_of_jobs\n",
    "    \n",
    "get_number_of_jobs_T('PostgreSQL')"
   ]
  },
  {
   "cell_type": "markdown",
   "id": "4641f8ef-8392-4ed2-bcb8-52447b9ab3d9",
   "metadata": {},
   "source": [
    "## a function to find number of jobs in US for a location of Los Angeles."
   ]
  },
  {
   "cell_type": "code",
   "execution_count": 31,
   "id": "bd80432b-a6e6-422e-ae0e-bfa5b30b4475",
   "metadata": {},
   "outputs": [
    {
     "data": {
      "text/plain": [
       "('Los Angeles', 640)"
      ]
     },
     "execution_count": 31,
     "metadata": {},
     "output_type": "execute_result"
    }
   ],
   "source": [
    "def get_number_of_jobs_L(location):\n",
    "    \n",
    "    num_of_jobs=0\n",
    "    for job in data:\n",
    "        loc = job.get('Location')\n",
    "\n",
    "        #case normalization\n",
    "        if location.lower() in loc.lower():\n",
    "            num_of_jobs+=1\n",
    "\n",
    "    return location, num_of_jobs\n",
    "    \n",
    "get_number_of_jobs_L('Los Angeles')"
   ]
  },
  {
   "cell_type": "markdown",
   "id": "67e7bac4-5ae5-4207-8884-7c3457940a56",
   "metadata": {},
   "source": [
    "## storing the number of jobs postings  for each of the technology in the Excel file."
   ]
  },
  {
   "cell_type": "code",
   "execution_count": 33,
   "id": "ecb22c21-171f-4c61-8ab8-a36cba58258c",
   "metadata": {},
   "outputs": [
    {
     "name": "stdout",
     "output_type": "stream",
     "text": [
      "Results have been written to job_postings.xlsx\n"
     ]
    }
   ],
   "source": [
    "import requests\n",
    "from openpyxl import Workbook\n",
    "\n",
    "# fetching data from the API\n",
    "api_url = \"https://cf-courses-data.s3.us.cloud-object-storage.appdomain.cloud/IBM-DA0321EN-SkillsNetwork/labs/module%201/Accessing%20Data%20Using%20APIs/jobs.json\"\n",
    "response = requests.get(api_url)\n",
    "if response.ok:\n",
    "    data = response.json()\n",
    "else:\n",
    "    print(\"Failed to fetch data\")\n",
    "    data = []\n",
    "\n",
    "# defining the list of technologies\n",
    "technologies = [\n",
    "    \"C\", \"C++\", \"Java\", \"C#\", \"Python\", \"Scala\", \"Oracle\",\n",
    "    \"SQL Server\", \"MySQL\", \"PostgreSQL\", \"MongoDB\", \"JavaScript\"\n",
    "]\n",
    "\n",
    "# initialize the count dictionary\n",
    "tech_counts = {tech: 0 for tech in technologies}\n",
    "\n",
    "# iterate over each job and its key skills\n",
    "for job in data:\n",
    "    key_skills = job.get(\"Key Skills\", [])\n",
    "    \n",
    "    # if key_skills is an instance of the type of a string\n",
    "    if isinstance(key_skills, str):\n",
    "        key_skills = key_skills.split('|')  # split string into list\n",
    "    \n",
    "    # normalize key_skills\n",
    "    key_skills_normalized = set(skill.lower().strip() for skill in key_skills)\n",
    "    \n",
    "    # check each technology in the list\n",
    "    for tech in technologies:\n",
    "        tech_normalized = tech.lower().strip()  # normalize technology name\n",
    "        \n",
    "        # if the tech_normalized appears in any of the key_skills_normalized\n",
    "        if tech_normalized in key_skills_normalized:\n",
    "            tech_counts[tech] += 1\n",
    "\n",
    "\n",
    "# write results to Excel\n",
    "wb = Workbook()\n",
    "ws = wb.active\n",
    "ws.title = \"Job Postings\"\n",
    "ws.append([\"Technology\", \"Job Postings\"])\n",
    "\n",
    "# append each technology and its job count to the Excel sheet\n",
    "for tech, count in tech_counts.items():\n",
    "    ws.append([tech, count])\n",
    "\n",
    "# save the spreadsheet\n",
    "file_name = \"job_postings.xlsx\"\n",
    "wb.save(file_name)\n",
    "\n",
    "print(f\"Results have been written to {file_name}\")\n"
   ]
  },
  {
   "cell_type": "code",
   "execution_count": null,
   "id": "91668205-7a75-4242-bf26-3d8deea2ca8a",
   "metadata": {},
   "outputs": [],
   "source": []
  },
  {
   "cell_type": "code",
   "execution_count": null,
   "id": "40f63cfc-4e85-4f57-8659-eacd1aaca2f8",
   "metadata": {},
   "outputs": [],
   "source": []
  }
 ],
 "metadata": {
  "kernelspec": {
   "display_name": "Python 3 (ipykernel)",
   "language": "python",
   "name": "python3"
  },
  "language_info": {
   "codemirror_mode": {
    "name": "ipython",
    "version": 3
   },
   "file_extension": ".py",
   "mimetype": "text/x-python",
   "name": "python",
   "nbconvert_exporter": "python",
   "pygments_lexer": "ipython3",
   "version": "3.12.3"
  }
 },
 "nbformat": 4,
 "nbformat_minor": 5
}
